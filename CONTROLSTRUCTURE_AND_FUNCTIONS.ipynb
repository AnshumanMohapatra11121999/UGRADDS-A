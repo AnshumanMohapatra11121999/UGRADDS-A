{
  "nbformat": 4,
  "nbformat_minor": 0,
  "metadata": {
    "colab": {
      "provenance": [],
      "authorship_tag": "ABX9TyP6bCO7CtkE7M3i4fMT5C93",
      "include_colab_link": true
    },
    "kernelspec": {
      "name": "python3",
      "display_name": "Python 3"
    },
    "language_info": {
      "name": "python"
    }
  },
  "cells": [
    {
      "cell_type": "markdown",
      "metadata": {
        "id": "view-in-github",
        "colab_type": "text"
      },
      "source": [
        "<a href=\"https://colab.research.google.com/github/AnshumanMohapatra11121999/UGRADDS-A/blob/main/CONTROLSTRUCTURE_AND_FUNCTIONS.ipynb\" target=\"_parent\"><img src=\"https://colab.research.google.com/assets/colab-badge.svg\" alt=\"Open In Colab\"/></a>"
      ]
    },
    {
      "cell_type": "code",
      "execution_count": null,
      "metadata": {
        "id": "SvmSwvEMVZPy"
      },
      "outputs": [],
      "source": [
        "#Topics\n",
        "#Control structures\n",
        "#If-elif-else\n",
        "#For loop\n",
        "#While loop\n",
        "#List comprehensions\n",
        "#Dictionary comprehensions\n"
      ]
    },
    {
      "cell_type": "code",
      "source": [
        "#Descision making(check a number is even or odd)\n",
        "x = int(input(\"Enter a number\"))\n",
        "\n",
        "if x % 2 == 0:\n",
        "    print(x, \"is even number\")\n",
        "else:\n",
        "    print(x, \"is odd number\")"
      ],
      "metadata": {
        "colab": {
          "base_uri": "https://localhost:8080/"
        },
        "id": "cTC85R0SV8dI",
        "outputId": "3a4c28f6-5ef2-42bc-9db8-0a049f4cc628"
      },
      "execution_count": null,
      "outputs": [
        {
          "output_type": "stream",
          "name": "stdout",
          "text": [
            "Enter a number11\n",
            "11 is odd number\n"
          ]
        }
      ]
    },
    {
      "cell_type": "code",
      "source": [
        "x=int(input(\"Enter your age: \"))\n",
        "if x<=18 or x>=60:\n",
        "  print(\"Welcome to the Party\")\n",
        "else:\n",
        " print(\"Sorry the age group is not appropriate\")\n"
      ],
      "metadata": {
        "colab": {
          "base_uri": "https://localhost:8080/"
        },
        "id": "J18hXbQnWhPU",
        "outputId": "e1d2b6c2-6f09-45a6-e000-320d05e11241"
      },
      "execution_count": null,
      "outputs": [
        {
          "output_type": "stream",
          "name": "stdout",
          "text": [
            "Enter your age: 22\n",
            "Sorry the age group is not appropriate\n"
          ]
        }
      ]
    },
    {
      "cell_type": "code",
      "source": [
        "shopping_total=5000\n",
        "if shopping_total >= 5000:\n",
        "  print(\"Discount voucher 1000\")\n",
        "elif shopping_total >= 6000:\n",
        "  print(\"Discount voucher 1500\")\n",
        "else:\n",
        "  print(\"No discount Voucher\")"
      ],
      "metadata": {
        "colab": {
          "base_uri": "https://localhost:8080/"
        },
        "id": "ZJW_T7L5XP2N",
        "outputId": "5d08147f-f9e7-4050-ac6e-35a8a5dc8410"
      },
      "execution_count": null,
      "outputs": [
        {
          "output_type": "stream",
          "name": "stdout",
          "text": [
            "Discount voucher 1000\n"
          ]
        }
      ]
    },
    {
      "cell_type": "code",
      "source": [
        "#Iteration\n",
        "l=[1,2,3,4,5,6]\n",
        "for i in l:\n",
        "  print(i)"
      ],
      "metadata": {
        "colab": {
          "base_uri": "https://localhost:8080/"
        },
        "id": "Tpcf35JnY6Ue",
        "outputId": "6fed6b55-2165-4c60-e0ed-0a1ef0abf2e0"
      },
      "execution_count": null,
      "outputs": [
        {
          "output_type": "stream",
          "name": "stdout",
          "text": [
            "1\n",
            "2\n",
            "3\n",
            "4\n",
            "5\n",
            "6\n"
          ]
        }
      ]
    },
    {
      "cell_type": "code",
      "source": [
        "stringx=\"Himachal Pradesh\"\n",
        "for ch in stringx:\n",
        "  print(ch)\n",
        "\n"
      ],
      "metadata": {
        "colab": {
          "base_uri": "https://localhost:8080/"
        },
        "id": "mMu8xMv1gYXX",
        "outputId": "718ac3e0-d576-4bc9-ca34-b526c88f54c8"
      },
      "execution_count": null,
      "outputs": [
        {
          "output_type": "stream",
          "name": "stdout",
          "text": [
            "H\n",
            "i\n",
            "m\n",
            "a\n",
            "c\n",
            "h\n",
            "a\n",
            "l\n",
            " \n",
            "P\n",
            "r\n",
            "a\n",
            "d\n",
            "e\n",
            "s\n",
            "h\n"
          ]
        }
      ]
    },
    {
      "cell_type": "code",
      "source": [
        "for ch in stringx:\n",
        "  print(ch,end=\":\")"
      ],
      "metadata": {
        "colab": {
          "base_uri": "https://localhost:8080/"
        },
        "id": "R5qbNVVuhRBW",
        "outputId": "91961cba-1be1-4014-aa9c-8ae749bc0233"
      },
      "execution_count": null,
      "outputs": [
        {
          "output_type": "stream",
          "name": "stdout",
          "text": [
            "H:i:m:a:c:h:a:l: :P:r:a:d:e:s:h:"
          ]
        }
      ]
    },
    {
      "cell_type": "code",
      "source": [
        "#Iterate over a dictionary (both key and values)\n",
        "students_data = {1:['Sam', 24] , 2:['Sharma',25], 3:['Saina', 26], 4:['Saif',24], 5:['Varun',27]}\n",
        "for key, val in students_data.items():\n",
        "    print(key, val)"
      ],
      "metadata": {
        "colab": {
          "base_uri": "https://localhost:8080/"
        },
        "id": "jgf9DQvLhdyI",
        "outputId": "9e4afa39-17d7-4a51-d243-deadbd653149"
      },
      "execution_count": null,
      "outputs": [
        {
          "output_type": "stream",
          "name": "stdout",
          "text": [
            "1 ['Sam', 24]\n",
            "2 ['Sharma', 25]\n",
            "3 ['Saina', 26]\n",
            "4 ['Saif', 24]\n",
            "5 ['Varun', 27]\n"
          ]
        }
      ]
    },
    {
      "cell_type": "code",
      "source": [
        "#Iterate over a dictionary (only key)\n",
        "for key in students_data.keys():\n",
        "    print(key)"
      ],
      "metadata": {
        "colab": {
          "base_uri": "https://localhost:8080/"
        },
        "id": "qipl6l8EiDAi",
        "outputId": "5e051cfc-4379-47e8-efa9-8fcd17275b4d"
      },
      "execution_count": null,
      "outputs": [
        {
          "output_type": "stream",
          "name": "stdout",
          "text": [
            "1\n",
            "2\n",
            "3\n",
            "4\n",
            "5\n"
          ]
        }
      ]
    },
    {
      "cell_type": "code",
      "source": [
        "#Iterate over a dictionary (only values)\n",
        "for values in students_data.values():\n",
        "    print(values)"
      ],
      "metadata": {
        "colab": {
          "base_uri": "https://localhost:8080/"
        },
        "id": "Wv7HgWaIiNIh",
        "outputId": "c321795b-bfd1-4e92-a58f-ddc0ead922ea"
      },
      "execution_count": null,
      "outputs": [
        {
          "output_type": "stream",
          "name": "stdout",
          "text": [
            "['Sam', 24]\n",
            "['Sharma', 25]\n",
            "['Saina', 26]\n",
            "['Saif', 24]\n",
            "['Varun', 27]\n"
          ]
        }
      ]
    },
    {
      "cell_type": "code",
      "source": [
        "#range function(start,end,step)\n",
        "range(1,100)"
      ],
      "metadata": {
        "colab": {
          "base_uri": "https://localhost:8080/"
        },
        "id": "-JLBu2tEibCz",
        "outputId": "331aeacf-b797-430d-a313-ef0042177609"
      },
      "execution_count": null,
      "outputs": [
        {
          "output_type": "execute_result",
          "data": {
            "text/plain": [
              "range(1, 100)"
            ]
          },
          "metadata": {},
          "execution_count": 26
        }
      ]
    },
    {
      "cell_type": "code",
      "source": [
        "l=list(range(1,101,5))\n",
        "print(l)"
      ],
      "metadata": {
        "colab": {
          "base_uri": "https://localhost:8080/"
        },
        "id": "g8z_S43Niehd",
        "outputId": "80667e28-4e09-41ec-e470-7d12bede087f"
      },
      "execution_count": null,
      "outputs": [
        {
          "output_type": "stream",
          "name": "stdout",
          "text": [
            "[1, 6, 11, 16, 21, 26, 31, 36, 41, 46, 51, 56, 61, 66, 71, 76, 81, 86, 91, 96]\n"
          ]
        }
      ]
    },
    {
      "cell_type": "code",
      "source": [
        "for i in range(1,100,10):\n",
        "  print(i)"
      ],
      "metadata": {
        "colab": {
          "base_uri": "https://localhost:8080/"
        },
        "id": "V3S0jq9xi5Cd",
        "outputId": "ee666aeb-b5a2-4d4e-869a-b9b6d0dd54e1"
      },
      "execution_count": null,
      "outputs": [
        {
          "output_type": "stream",
          "name": "stdout",
          "text": [
            "1\n",
            "11\n",
            "21\n",
            "31\n",
            "41\n",
            "51\n",
            "61\n",
            "71\n",
            "81\n",
            "91\n"
          ]
        }
      ]
    },
    {
      "cell_type": "code",
      "source": [
        " #prime numbers between 1 to 20\n",
        "for n in range(1,20):\n",
        "  flag = True\n",
        "  for i in range(2,n):\n",
        "    if n%i==0:\n",
        "      flag=False\n",
        "      break\n",
        "  if flag:\n",
        "      print(n)"
      ],
      "metadata": {
        "colab": {
          "base_uri": "https://localhost:8080/"
        },
        "id": "K80noGOFjGZp",
        "outputId": "f350603f-4a8c-49ee-adc5-95a5605c0d83"
      },
      "execution_count": null,
      "outputs": [
        {
          "output_type": "stream",
          "name": "stdout",
          "text": [
            "1\n",
            "2\n",
            "3\n",
            "5\n",
            "7\n",
            "11\n",
            "13\n",
            "17\n",
            "19\n"
          ]
        }
      ]
    },
    {
      "cell_type": "code",
      "source": [
        "d = {0: 'Fish', 1: 'Bird', 2: 'Mammal'}\n",
        "for i in d:\n",
        "    print(i, end = \" \")"
      ],
      "metadata": {
        "id": "OxjlkmeFjz3Q",
        "colab": {
          "base_uri": "https://localhost:8080/"
        },
        "outputId": "42c91e83-2f10-4e8a-9c00-2c5ffe28050f"
      },
      "execution_count": null,
      "outputs": [
        {
          "output_type": "stream",
          "name": "stdout",
          "text": [
            "0 1 2 "
          ]
        }
      ]
    },
    {
      "cell_type": "code",
      "source": [
        "#Comprehension\n",
        "#Comprehensions are syntactic constructs that enable sequences to be built from other sequences in a clear and concise manner.\n",
        "#Listcomprehension,Dictionary comprehension and setcomprehension are the three types of comprehension\n",
        "l1=[\"one\",\"two\",\"three\",\"four\"]\n",
        "#we have to create another list which contains length of each string in l1 as an element using comprehension\n",
        "l2=[len(i) for i in l1]\n",
        "print(l2)"
      ],
      "metadata": {
        "id": "C-YWk--fs8O7",
        "colab": {
          "base_uri": "https://localhost:8080/"
        },
        "outputId": "9ec48c05-d30a-40a0-b21d-ba1a93053529"
      },
      "execution_count": 1,
      "outputs": [
        {
          "output_type": "stream",
          "name": "stdout",
          "text": [
            "[3, 3, 5, 4]\n"
          ]
        }
      ]
    },
    {
      "cell_type": "code",
      "source": [
        "#iterate over l1 and l2 simultaneously\n",
        "for i,j in zip(l1,l2):\n",
        "  print(i,\" \",j)\n",
        "  #Zip function is used here in order to merge multiple list or dictionary in order to be iterated"
      ],
      "metadata": {
        "colab": {
          "base_uri": "https://localhost:8080/"
        },
        "id": "i9_lgzSOvlXF",
        "outputId": "af6609e4-d3d2-48a8-c06e-fb4b0fed4ec5"
      },
      "execution_count": 5,
      "outputs": [
        {
          "output_type": "stream",
          "name": "stdout",
          "text": [
            "one   3\n",
            "two   3\n",
            "three   5\n",
            "four   4\n"
          ]
        }
      ]
    },
    {
      "cell_type": "code",
      "source": [
        "#Dictionary Comprehension\n",
        "#We are creating a ictionary out of list l1 where key is the elementof l1 and the corresponding value is the length of the string present as the element in the list l1\n",
        "d={i:len(i) for i in l1}\n",
        "print(d)"
      ],
      "metadata": {
        "colab": {
          "base_uri": "https://localhost:8080/"
        },
        "id": "oOjYxEXWv6qe",
        "outputId": "d8135854-14a9-41fd-e31e-6417e1abf380"
      },
      "execution_count": 7,
      "outputs": [
        {
          "output_type": "stream",
          "name": "stdout",
          "text": [
            "{'one': 3, 'two': 3, 'three': 5, 'four': 4}\n"
          ]
        }
      ]
    },
    {
      "cell_type": "code",
      "source": [
        "#Set Comprehension\n",
        "#Ex take a word from the users and return the vowels present in the word using comprehension\n",
        "word= str(input(\"Enter a word\"))\n",
        "vowels={i for i in word if i in \"aeiou\"}\n",
        "print(vowels)\n",
        "\n"
      ],
      "metadata": {
        "colab": {
          "base_uri": "https://localhost:8080/"
        },
        "id": "h-w-pIoBwtb-",
        "outputId": "194d9dd1-0ab2-4078-fd6d-eb004200406c"
      },
      "execution_count": 11,
      "outputs": [
        {
          "output_type": "stream",
          "name": "stdout",
          "text": [
            "Enter a wordas i am aware of this elope\n",
            "{'i', 'e', 'o', 'a'}\n"
          ]
        }
      ]
    },
    {
      "cell_type": "code",
      "source": [],
      "metadata": {
        "id": "ghJDmYTcxelt"
      },
      "execution_count": null,
      "outputs": []
    }
  ]
}