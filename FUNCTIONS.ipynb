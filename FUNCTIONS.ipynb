{
  "nbformat": 4,
  "nbformat_minor": 0,
  "metadata": {
    "colab": {
      "provenance": [],
      "authorship_tag": "ABX9TyNr/g1e8oGxlpzRinc2P6SW",
      "include_colab_link": true
    },
    "kernelspec": {
      "name": "python3",
      "display_name": "Python 3"
    },
    "language_info": {
      "name": "python"
    }
  },
  "cells": [
    {
      "cell_type": "markdown",
      "metadata": {
        "id": "view-in-github",
        "colab_type": "text"
      },
      "source": [
        "<a href=\"https://colab.research.google.com/github/AnshumanMohapatra11121999/UGRADDS-A/blob/main/FUNCTIONS.ipynb\" target=\"_parent\"><img src=\"https://colab.research.google.com/assets/colab-badge.svg\" alt=\"Open In Colab\"/></a>"
      ]
    },
    {
      "cell_type": "code",
      "execution_count": null,
      "metadata": {
        "id": "SvmSwvEMVZPy"
      },
      "outputs": [],
      "source": [
        "#TOPICS\n",
        "#Functions\n",
        "#Map\n",
        "#Filter\n",
        "#Reduce"
      ]
    },
    {
      "cell_type": "code",
      "source": [
        "#Functions\n",
        "#Syntax\n",
        "'''\n",
        "def functionname(parameters):\n",
        "  statements inside the function\n",
        "'''\n",
        "def sum(a,b=1):\n",
        "  z=a+b\n",
        "  return z\n",
        "d=sum(34,sum(2))\n",
        "print(d)\n",
        "\n",
        "\n"
      ],
      "metadata": {
        "colab": {
          "base_uri": "https://localhost:8080/"
        },
        "id": "icaQggbDzwxp",
        "outputId": "22346ae3-96d4-4ee0-dd2e-24c3e4871ce1"
      },
      "execution_count": null,
      "outputs": [
        {
          "output_type": "stream",
          "name": "stdout",
          "text": [
            "37\n"
          ]
        }
      ]
    },
    {
      "cell_type": "code",
      "source": [
        "#Functional Arguments\n",
        "#Default arguments: These parameters have a default value and will not throw any error if they are not passed while using the function.\n",
        "#Default parameter here is age which has a by efault value 35\n",
        "def func1(name,age=35,city=\"Mumbai\"):\n",
        "  print(name)\n",
        "  print(age)\n",
        "  print(city)\n",
        "\n",
        "func1(\"Anshuman\")#This function call will print age 35 by default because there is no specific value for parameter age is given\n"
      ],
      "metadata": {
        "id": "pdrYi7p00vcm",
        "colab": {
          "base_uri": "https://localhost:8080/"
        },
        "outputId": "1b4a8a8f-c2b9-4356-cca0-be1ec7d34707"
      },
      "execution_count": 5,
      "outputs": [
        {
          "output_type": "stream",
          "name": "stdout",
          "text": [
            "Anshuman\n",
            "35\n",
            "Mumbai\n"
          ]
        }
      ]
    },
    {
      "cell_type": "code",
      "source": [
        "#Keyword parameters: These parameters are expected to be passed using a keyword. In the example of printing a list, you saw that passing end = ',' prints the elements of the list separated by a comma instead of the default newline format.\n",
        "#This is a classic example of a keyword argument, the value of which is changed by using the end keyword and specifying the value.\n",
        "#Keyword aargument:If there are 3 parameters but we want to give value for 1st and 3rd parameter\n",
        "# but by default when we enter 3rd parameter value but the function tretas it as second parameter value in that case this concepts become helpful.\n",
        "func1(\"Anshuman\",city=\"Phagwara\")#Here inorder to give value for the 3rd parameter we are directly writing the name of the parameter"
      ],
      "metadata": {
        "colab": {
          "base_uri": "https://localhost:8080/"
        },
        "id": "oka0TyMU7R12",
        "outputId": "c278b634-5ca8-4d11-9d65-0b23e2f33fdc"
      },
      "execution_count": 6,
      "outputs": [
        {
          "output_type": "stream",
          "name": "stdout",
          "text": [
            "Anshuman\n",
            "35\n",
            "Phagwara\n"
          ]
        }
      ]
    },
    {
      "cell_type": "code",
      "source": [
        "#Variable-length parameters: These enable the function to accept multiple arguments.\n",
        "#Now, let’s write a function that takes two lists as the input and performs an element-wise subtraction.\n",
        "#It is simple: first, you define your function with two parameters:\n",
        "#give more than one argument by writing a single argument name in function definition\n",
        "def var_args(*args):\n",
        "  print(args)\n",
        "\n",
        "var_args(\"Anshuman\",\"xyz\",1,2.5)#The output will be in the format of a tuple"
      ],
      "metadata": {
        "colab": {
          "base_uri": "https://localhost:8080/"
        },
        "id": "3rq_82RN82rl",
        "outputId": "20e54c47-7b20-4271-bf7a-e14a771562ca"
      },
      "execution_count": 8,
      "outputs": [
        {
          "output_type": "stream",
          "name": "stdout",
          "text": [
            "('Anshuman', 'xyz', 1, 2.5)\n"
          ]
        }
      ]
    },
    {
      "cell_type": "code",
      "source": [
        "#Lambda Function\n",
        "#Lambda functions are another way of defining functions to execute small functionalities occurring while implementing a complex functionality.\n",
        "#These functions can take multiple parameters as input but can only execute a single expression;\n",
        "#in other words, they can only perform a single operation.\n",
        "#Syntax:The format of a lambda expression is as follows:\n",
        "#function_name  = lambda <space>  input_parameters :  output_parameters\n",
        "\n",
        "f=lambda x,y:x+y\n",
        "f(2,3)\n",
        "#o/p=5\n",
        "f([2,3,4,5],[6,7,8,9])\n",
        "#o/p=[2, 3, 4, 5, 6, 7, 8, 9]\n",
        "\n",
        "\n"
      ],
      "metadata": {
        "colab": {
          "base_uri": "https://localhost:8080/"
        },
        "id": "J2TePx7B-srC",
        "outputId": "821c143f-fabe-4fb4-920e-d28eb1185038"
      },
      "execution_count": 18,
      "outputs": [
        {
          "output_type": "execute_result",
          "data": {
            "text/plain": [
              "[2, 3, 4, 5, 6, 7, 8, 9]"
            ]
          },
          "metadata": {},
          "execution_count": 18
        }
      ]
    },
    {
      "cell_type": "code",
      "source": [
        "f([2,3,4,5],[6,7,8,9])\n",
        "#o/p=[2, 3, 4, 5, 6, 7, 8, 9]"
      ],
      "metadata": {
        "colab": {
          "base_uri": "https://localhost:8080/"
        },
        "id": "yRPRPS4u__2R",
        "outputId": "329550ab-6022-407e-f60a-baac7cfea13d"
      },
      "execution_count": 19,
      "outputs": [
        {
          "output_type": "execute_result",
          "data": {
            "text/plain": [
              "[2, 3, 4, 5, 6, 7, 8, 9]"
            ]
          },
          "metadata": {},
          "execution_count": 19
        }
      ]
    },
    {
      "cell_type": "code",
      "source": [
        "#Example of lambda function(Check number is even or odd)\n",
        "g=lambda x: \"even\" if x%2==0 else \"odd\"\n",
        "g(25)"
      ],
      "metadata": {
        "colab": {
          "base_uri": "https://localhost:8080/",
          "height": 35
        },
        "id": "PrStxouPAALQ",
        "outputId": "7e6a4f68-bad0-40fa-86a0-abe48cdda300"
      },
      "execution_count": 20,
      "outputs": [
        {
          "output_type": "execute_result",
          "data": {
            "text/plain": [
              "'odd'"
            ],
            "application/vnd.google.colaboratory.intrinsic+json": {
              "type": "string"
            }
          },
          "metadata": {},
          "execution_count": 20
        }
      ]
    }
  ]
}