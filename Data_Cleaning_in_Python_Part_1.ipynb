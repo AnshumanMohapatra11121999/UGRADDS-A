{
  "nbformat": 4,
  "nbformat_minor": 0,
  "metadata": {
    "colab": {
      "provenance": [],
      "authorship_tag": "ABX9TyM3t6FF73Cv7pfgM+JY7ElZ",
      "include_colab_link": true
    },
    "kernelspec": {
      "name": "python3",
      "display_name": "Python 3"
    },
    "language_info": {
      "name": "python"
    }
  },
  "cells": [
    {
      "cell_type": "markdown",
      "metadata": {
        "id": "view-in-github",
        "colab_type": "text"
      },
      "source": [
        "<a href=\"https://colab.research.google.com/github/AnshumanMohapatra11121999/UGRADDS-A/blob/main/Data_Cleaning_in_Python_Part_1.ipynb\" target=\"_parent\"><img src=\"https://colab.research.google.com/assets/colab-badge.svg\" alt=\"Open In Colab\"/></a>"
      ]
    },
    {
      "cell_type": "code",
      "execution_count": null,
      "metadata": {
        "id": "EqWdyW9gjfhr"
      },
      "outputs": [],
      "source": [
        "#There are multiple ways of getting data into Python, depending on where the data is stored.\n",
        "# The simplest case is when you have data in CSV files,\n",
        "#but often, you need to get data from other formats, sources and documents,\n",
        "#such as text files, relational databases, websites, APIs, PDF documents, etc."
      ]
    },
    {
      "cell_type": "code",
      "source": [
        "#In the following sections, you will learn to get data into Python from several sources. You will learn how to:\n",
        "\n",
        "'''Get data from text files\n",
        "Get data from relational databases\n",
        "Scrape data from websites\n",
        "Get data from publicly available APIs\n",
        "Read PDFs into Python'''"
      ],
      "metadata": {
        "id": "yuDAhC-TuJqe"
      },
      "execution_count": null,
      "outputs": []
    },
    {
      "cell_type": "code",
      "source": [
        "'''\n",
        "What are Delimited Files?\n",
        "Delimited files are usually text files,\n",
        "where columns are separated by delimiters (such as commas, tabs, semicolons, etc.),\n",
        "and each new line is a row. We will be learning how to embed and manipulate such data using Python.\n",
        "\n",
        "\n",
        "'''"
      ],
      "metadata": {
        "id": "XgmHzr0suOD_"
      },
      "execution_count": null,
      "outputs": []
    },
    {
      "cell_type": "code",
      "source": [
        "#RDBMS is also often used to store data,\n",
        "#and they are simple to import into Python."
      ],
      "metadata": {
        "id": "vv2UcWuKuZOF"
      },
      "execution_count": null,
      "outputs": []
    },
    {
      "cell_type": "code",
      "source": [
        "'''\n",
        "Many libraries, such as pymysql, MySQLdb, and others, connect MySQL with Python.\n",
        "\n",
        "To connect to MySQL, they all use the procedure outlined below:\n",
        "\n",
        "Create a connection object between MySQL and Python\n",
        "Construct a cursor object (you use the cursor to open and close the connection)\n",
        "Run the SQL query.\n",
        "Using methods like fetchone()and fetchall(), you can get the query’s results.\n",
        "\n",
        "'''"
      ],
      "metadata": {
        "id": "rZtrYMRcuco6"
      },
      "execution_count": null,
      "outputs": []
    },
    {
      "cell_type": "code",
      "source": [
        "import pandas as pd\n",
        "import numpy as np"
      ],
      "metadata": {
        "id": "kuT17NuHujh-"
      },
      "execution_count": 1,
      "outputs": []
    },
    {
      "cell_type": "code",
      "source": [
        "#reading a text file Where the separator is a tab we use sep=\"\\t\" attribute\n",
        "#df=pd.read_csv(\"path.txt\",sep=\"\\t\",encoding=\"ISO-8859-1\")"
      ],
      "metadata": {
        "id": "-ej8vy5Mu4ep"
      },
      "execution_count": null,
      "outputs": []
    },
    {
      "cell_type": "code",
      "source": [
        "#Getting data from Relational Databases\n",
        "#import library\n",
        "import pymysql\n",
        "\n",
        "\n",
        "# create a connection object 'conn'\n",
        "conn = pymysql.connect(host=\"localhost\", # your host, localhost for your local machine\n",
        "                     user=\"root\", # your username, usually \"root\" for localhost\n",
        "                      passwd=\"yourpassword\", # your password\n",
        "                      db=\"world\") # name of the data base; world comes inbuilt with mysql\n",
        "\n",
        "# create a cursor object c\n",
        "c = conn.cursor()\n",
        "\n",
        "# execute a query using c.execute\n",
        "c.execute(\"select * from city;\")\n",
        "\n",
        "# getting the first row of data as a tuple\n",
        "all_rows = c.fetchall()\n",
        "\n",
        "# to get only the first row, use c.fetchone() instead"
      ],
      "metadata": {
        "id": "1hGiwyoMve-y"
      },
      "execution_count": null,
      "outputs": []
    },
    {
      "cell_type": "code",
      "source": [
        "# notice that it returns a tuple of tuples: each row is a tuple\n",
        "print(type(all_rows))\n",
        "\n",
        "# printing the first few rows\n",
        "print(all_rows[:5])"
      ],
      "metadata": {
        "id": "fgp0ydG0xNgn"
      },
      "execution_count": null,
      "outputs": []
    },
    {
      "cell_type": "code",
      "source": [
        "'''Now, it would be useful to convert the list into a dataframe, since you can now work with dataframes easily. In this case, you can use the ```pd.DataFrame()``` function, and pass the list version of the tuple.\n",
        "\n",
        "```pd.DataFrame(list_of_tuples)``` converts each tuple in the list to a row in the DF.'''"
      ],
      "metadata": {
        "id": "p6VDYGCRxOK0"
      },
      "execution_count": null,
      "outputs": []
    },
    {
      "cell_type": "code",
      "source": [
        "df = pd.DataFrame(list(all_rows), columns=[\"ID\", \"Name\", \"Country\", \"District\", \"Population\"])\n",
        "df.head()"
      ],
      "metadata": {
        "id": "gKXRTpgzxYh1"
      },
      "execution_count": null,
      "outputs": []
    }
  ]
}